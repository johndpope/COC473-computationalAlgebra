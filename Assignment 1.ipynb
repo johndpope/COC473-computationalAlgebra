{
 "cells": [
  {
   "cell_type": "code",
   "execution_count": 1,
   "metadata": {
    "collapsed": true
   },
   "outputs": [],
   "source": [
    "from numpy.linalg import inv\n",
    "import numpy as np\n",
    "from math import *\n",
    "from copy import deepcopy\n",
    "from sympy import *"
   ]
  },
  {
   "cell_type": "code",
   "execution_count": 2,
   "metadata": {
    "collapsed": false
   },
   "outputs": [],
   "source": [
    "x,y,z = symbols('x y z')\n",
    "init_printing(use_unicode=True)\n",
    "tolerance = 0.0001\n",
    "g = 9.806\n",
    "k = 0.00341\n",
    "testFunction1 = log(cosh(x*sqrt(g*k))) - 50\n",
    "testFunction2 = 4*cos(x)- exp(2*x)"
   ]
  },
  {
   "cell_type": "markdown",
   "metadata": {},
   "source": [
    "\n",
    "## Método da bisseção\n",
    "\n",
    "Esse método precisa de dois valores iniciais, a e b. Esses valores devem ser um positivo e outro negativo. Ainda, a raiz deve estar contida no intervalo [a,b].\n",
    "\n",
    "O processo seguido pelo método é definir o ponto candidato a raiz como o meio do intervalo [a,b] e testar se a função nesse ponto candidato está dentro do intervalo de tolerância. Se não estiver, ele muda o valor do intervalo analisado de acordo com o seguinte critério:\n",
    "\n",
    "\n",
    "- Se a função aplicada no ponto definido como candidato a raiz deu um valor maior que zero, substitui o limite superior do intervalo analisado pelo próprio ponto candidato a raiz;\n",
    "- Se a função aplicada no ponto definido como candidato a raiz deu um valor menor que zero, substitui o limite inferior do intervalo analisado pelo próprio ponto candidato a raiz."
   ]
  },
  {
   "cell_type": "code",
   "execution_count": 3,
   "metadata": {
    "collapsed": true
   },
   "outputs": [],
   "source": [
    "def bissectionMethod(function,a,b,tol):\n",
    "\t\"\"\"\n",
    "\tImplements: Bissection Method\n",
    "\tArguments:\n",
    "\t\tfunction: function to apply the method (sympy function)\n",
    "\t\ta: begin of the analyzed interval (number)\n",
    "\t\tb: end of the analyzed interval (number)\n",
    "\t\ttol: error tolerance (number)\n",
    "\tReturn: root of analyzed function (number) \n",
    "\t\"\"\"\n",
    "\titerations = 0\n",
    "\twhile(abs(a-b) > tol and iterations < 1000):\n",
    "\t\trootPoint = (a+b)/2\n",
    "\t\trootValue = function.subs(x,rootPoint)\n",
    "\t\tif(rootValue > 0):\n",
    "\t\t\tb = rootPoint \n",
    "\t\telse:\n",
    "\t\t\ta = rootPoint \n",
    "\t\titerations+= 1\n",
    "\treturn rootPoint"
   ]
  },
  {
   "cell_type": "code",
   "execution_count": 4,
   "metadata": {
    "collapsed": false,
    "scrolled": true
   },
   "outputs": [
    {
     "name": "stdout",
     "output_type": "stream",
     "text": [
      "Function 1:  -7.8539276123046875\n",
      "Function 2:  277.22102403640747\n"
     ]
    }
   ],
   "source": [
    "print(\"Function 1: \",bissectionMethod(testFunction2,-30.0,10.0,tolerance))\n",
    "print(\"Function 2: \",bissectionMethod(testFunction1,-1000.0,1000.0,tolerance))"
   ]
  },
  {
   "cell_type": "markdown",
   "metadata": {},
   "source": [
    "\n",
    "## Método de Newton e Método da Secante\n",
    "\n",
    "No método de Newton expandimos a série de Taylor, truncamos no termo linear e igualamos a zero. Dessa forma, conseguimos encontrar a raiz de uma função qualquer dado apenas um ponto inicial e a função analisada.\n",
    "\n",
    "O processo seguido por essa função é o de usar o quociente entre f(x) e f`(x) para estimar uma espécie de ¨passo¨ h que aproxima o valor x do valor correto da raiz. Caso a função seja linear apenas uma iteração é necessária. \n",
    "\n",
    "\n",
    "> A diferença entre o método de Newton e o método da secante é que no método de Newton calculamos a derivada da maneira tradicional, ao passo que no método da secante calculamos a derivada pela própria definição de derivada."
   ]
  },
  {
   "cell_type": "code",
   "execution_count": 7,
   "metadata": {
    "collapsed": true
   },
   "outputs": [],
   "source": [
    "def newtonMetod(function,initialValue,tol):\n",
    "\t\"\"\"\n",
    "\tImplements: Newthon Method\n",
    "\tArguments:\n",
    "\t\tfunction: function to apply the method (sympy function)\n",
    "\t\tinitialValue: starting point (number)\n",
    "\t\ttol: error tolerance (number)\n",
    "\tReturn: root of analyzed function (number) \n",
    "\t\"\"\"\n",
    "\titerations = 100\n",
    "\trootPoint = initialValue\n",
    "\tfor i in range (iterations):\n",
    "\t\tlastRoot = rootPoint  \n",
    "\t\tfunctionDerivative =  diff(function,x)\n",
    "\t\trootPoint  = rootPoint - function.evalf(subs={x:rootPoint})/functionDerivative.evalf(subs={x:rootPoint})\n",
    "\tif(abs(rootPoint - lastRoot) < tol):\n",
    "\t\treturn rootPoint\n",
    "\telse:\n",
    "\t\treturn \"convergence not reached\""
   ]
  },
  {
   "cell_type": "code",
   "execution_count": 8,
   "metadata": {
    "collapsed": false
   },
   "outputs": [
    {
     "name": "stdout",
     "output_type": "stream",
     "text": [
      "Function 1 with initial point 200:  277.220996556061\n",
      "Function 1 with initial point -200:  -277.220996556061\n",
      "Function 2 with initial point -10:  -10.9955742876346\n",
      "Function 2 with initial point -15:  -14.1371669411539\n",
      "Function 2 with initial point -8:  -7.85398159629905\n"
     ]
    }
   ],
   "source": [
    "print(\"Function 1 with initial point 200: \",newtonMetod(testFunction1,200,tolerance))\n",
    "print(\"Function 1 with initial point -200: \",newtonMetod(testFunction1,-200,tolerance))\n",
    "print(\"Function 2 with initial point -10: \",newtonMetod(testFunction2,-10,tolerance))\n",
    "print(\"Function 2 with initial point -15: \",newtonMetod(testFunction2,-15,tolerance))\n",
    "print(\"Function 2 with initial point -8: \",newtonMetod(testFunction2,-8,tolerance))\n"
   ]
  },
  {
   "cell_type": "code",
   "execution_count": 22,
   "metadata": {
    "collapsed": false
   },
   "outputs": [],
   "source": [
    "def secantMethod(function,initialValue,tol):\n",
    "\t\"\"\"\n",
    "\tImplements: Secant Method\n",
    "\tArguments:\n",
    "\t\tfunction: function to apply the method (sympy function)\n",
    "\t\tinitialValue: starting point (number)\n",
    "\t\ttol: error tolerance (number)\n",
    "\tReturn: root of analyzed function (number) \n",
    "\t\"\"\"\n",
    "\titerations = 1000\n",
    "\trootPoint = initialValue\n",
    "\tdelta = 0.001\n",
    "\tlastRoot = rootPoint\n",
    "\trootPoint = lastRoot + delta\n",
    "\tfa = function.evalf(subs={x:lastRoot})\n",
    "\tfor i in range (iterations):\n",
    "\t\tfi = function.evalf(subs={x:rootPoint})\n",
    "\t\t# We use temp as a X of the last Iteration\n",
    "\t\ttemp = lastRoot\n",
    "\t\t# lastRoot assumes rot values before rootPoint update it value\n",
    "\t\tlastRoot = rootPoint\n",
    "\t\t# The line below is the main difference to Newton Method. We calculate the derivative using the definition\n",
    "\t\trootPoint = rootPoint - (fi * (rootPoint-temp))/(fi-fa)\n",
    "\t\tif(abs(rootPoint - lastRoot) < tol):\n",
    "\t\t\treturn rootPoint\n",
    "\t\telse:\n",
    "\t\t\tfa = fi\n",
    "\treturn \"convergence not reached\""
   ]
  },
  {
   "cell_type": "code",
   "execution_count": 24,
   "metadata": {
    "collapsed": false
   },
   "outputs": [
    {
     "name": "stdout",
     "output_type": "stream",
     "text": [
      "Function 1 with initial point 200:  277.220996556061\n",
      "Function 1 with initial point -200:  -277.220996556061\n",
      "Function 2 with initial point -10:  -10.9955742876351\n",
      "Function 2 with initial point -15:  -14.1371669411539\n",
      "Function 2 with initial point -8:  -7.85398159629840\n"
     ]
    }
   ],
   "source": [
    "print(\"Function 1 with initial point 200: \",secantMethod(testFunction1,200,tolerance))\n",
    "print(\"Function 1 with initial point -200: \",secantMethod(testFunction1,-200,tolerance))\n",
    "print(\"Function 2 with initial point -10: \",secantMethod(testFunction2,-10,tolerance))\n",
    "print(\"Function 2 with initial point -15: \",secantMethod(testFunction2,-15,tolerance))\n",
    "print(\"Function 2 with initial point -8: \",secantMethod(testFunction2,-8,tolerance))"
   ]
  },
  {
   "cell_type": "markdown",
   "metadata": {},
   "source": [
    "\n",
    "## Método da Interpolação Inversa\n",
    "\n",
    "Nesse método construímos um polinômio quadrático usando Interpolação de Langrange de x em função de y e calculando seu valor para y = 0.\n",
    "\n",
    "O processo seguindo por essa função é calcular os interpoladores de Lagrange e encontrar um valor de `x*`. Se esse x* não estiver dentro da tolerância definida,  o valor do maior dos pontos x utilizados na interpolação (esses x começam por pontos definidos pelo usuário) é substituído pelo x* encontrado e o processo é repetido."
   ]
  },
  {
   "cell_type": "code",
   "execution_count": 36,
   "metadata": {
    "collapsed": true
   },
   "outputs": [],
   "source": [
    "def inverseInterpolationMethod(function,x1,x2,x3,tol):\n",
    "\t\"\"\"\n",
    "\tImplements: Inverse Interpolation Method\n",
    "\tArguments:\n",
    "\t\tfunction: function to apply the method (sympy function)\n",
    "\t\tx1,x2,x3: points to use in Langrange`s interpolation (number)\n",
    "\t\ttol: error tolerance (number)\n",
    "\tReturn: root of analyzed function (number) \n",
    "\t\"\"\"\n",
    "\t# We start x* (root of last iteration) as 10^36\n",
    "\tlastRoot = pow(10,36)\n",
    "\titerations = 1000\n",
    "\tlist_x = [x1,x2,x3]\n",
    "\tlist_y = [0,0,0]\n",
    "\t#print(function.subs(x,1))\n",
    "\tfor i in range (iterations):\n",
    "\t\tlist_y[0] = function.evalf(subs={x:list_x[0]})\n",
    "\t\tlist_y[1] = function.evalf(subs={x:list_x[1]})\n",
    "\t\tlist_y[2] = function.evalf(subs={x:list_x[2]})\n",
    "\t\trootPoint = (list_y[1]*list_y[2]*list_x[0])/((list_y[0]-list_y[1])*(list_y[0]-list_y[2])) + (list_y[0]*list_y[2]*list_x[1])/((list_y[1]-list_y[0])*(list_y[1]-list_y[2])) + (list_y[0]*list_y[1]*list_x[2])/((list_y[2]-list_y[0])*(list_y[2]-list_y[1]))\n",
    "\t\tif(abs(rootPoint-lastRoot) < tol):\n",
    "\t\t\treturn rootPoint\n",
    "\t\telse:\n",
    "\t\t\ti = list_y.index(max(list_y))\n",
    "\t\t\tlist_x[i] = rootPoint\n",
    "\t\t\tlist_y[i] = function.subs(x,list_x[i])\n",
    "\t\t\tlastRoot = rootPoint\n",
    "\treturn \"Convergence not reached\""
   ]
  },
  {
   "cell_type": "code",
   "execution_count": 40,
   "metadata": {
    "collapsed": false
   },
   "outputs": [
    {
     "name": "stdout",
     "output_type": "stream",
     "text": [
      "Function 1 with initial points (200,250,260):  277.220996556061\n",
      "Function 1 with initial points (-200,-250,-260):  -277.220996556061\n",
      "Function 2 with initial points (-13,-12,-8)::  -7.85398158146460\n",
      "Function 2 with initial points (-16,-14,-18):  -14.1371659644094\n",
      "Function 2 with initial points (-5,-7,-9):  -7.10621448704260\n"
     ]
    }
   ],
   "source": [
    "print(\"Function 1 with initial points (200,250,260): \",inverseInterpolationMethod(testFunction1,200,250,260,tolerance))\n",
    "print(\"Function 1 with initial points (-200,-250,-260): \",inverseInterpolationMethod(testFunction1,-200,-250,-260,tolerance))\n",
    "print(\"Function 2 with initial points (-13,-12,-8):: \",inverseInterpolationMethod(testFunction2,-13,-12,-8,tolerance))\n",
    "print(\"Function 2 with initial points (-16,-14,-18): \",inverseInterpolationMethod(testFunction2,-16,-14,-18,tolerance))\n",
    "print(\"Function 2 with initial points (-5,-7,-9): \",inverseInterpolationMethod(testFunction2,-6,-7,-9,tolerance))"
   ]
  },
  {
   "cell_type": "code",
   "execution_count": null,
   "metadata": {
    "collapsed": true
   },
   "outputs": [],
   "source": []
  }
 ],
 "metadata": {
  "kernelspec": {
   "display_name": "Python 3",
   "language": "python",
   "name": "python3"
  },
  "language_info": {
   "codemirror_mode": {
    "name": "ipython",
    "version": 3
   },
   "file_extension": ".py",
   "mimetype": "text/x-python",
   "name": "python",
   "nbconvert_exporter": "python",
   "pygments_lexer": "ipython3",
   "version": "3.6.0"
  }
 },
 "nbformat": 4,
 "nbformat_minor": 2
}
