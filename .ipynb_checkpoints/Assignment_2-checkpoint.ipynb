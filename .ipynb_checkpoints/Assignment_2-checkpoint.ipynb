{
 "cells": [
  {
   "cell_type": "code",
   "execution_count": 3,
   "metadata": {
    "collapsed": true
   },
   "outputs": [],
   "source": [
    "import numpy as np\n",
    "from numpy.linalg import inv\n",
    "from numpy import matrix\n",
    "from math import *\n",
    "from sympy import *\n",
    "x,y,z,w = symbols('x y z w')\n",
    "init_printing(use_unicode=True)"
   ]
  },
  {
   "cell_type": "markdown",
   "metadata": {},
   "source": [
    "\n",
    "## Integração numérica\n",
    "\n",
    "Qualquer método de integração numérica (ou quadratura numérica) pode ser escrito como:\n",
    "\n",
    "$$A = \\sum_{j=1}^{N} f(x_i)w_i$$\n",
    " \n",
    "\n",
    "-  x_i são as coordenadas dos pontos de integração\n",
    "- w_i são os pesos, ou coeficientes\n",
    "\n",
    "### Integração polinomial\n",
    "\n",
    "Definimos os pesos da quadratura através da aproximação da função por um interpolador polinomial. Nesse caso, ainda, existem valores tabelados dos pontos/pesos que são resultados desse processo de interpolação e podemos usar."
   ]
  },
  {
   "cell_type": "code",
   "execution_count": 4,
   "metadata": {},
   "outputs": [],
   "source": [
    "def polynomialIntegration(N,interval,function,IntegrationTerm,show = False):\n",
    "\ta,b = interval[0],interval[1]\n",
    "\tif N == 1:\n",
    "\t\tx = [(a + b)/2]\n",
    "\telse:\n",
    "\t\tdelta = (b - a)/(N - 1)\n",
    "\t\tx = []\n",
    "\t\tfor i in range(N):\n",
    "\t\t\tx.append(a + i * delta)\n",
    "\tvandermonde = []\n",
    "\tfor rowExpoent in range(N):\n",
    "\t\trow = []\n",
    "\t\tfor column in range(N):\n",
    "\t\t\trow.append(x[column ]**rowExpoent)\n",
    "\t\tvandermonde.append(row)\n",
    "\ty = []\n",
    "\tfor j in range(1,N+1):\n",
    "\t\ty.append([(b ** j - a ** j)/j])\n",
    "\tw = list((inv(vandermonde) * matrix(y)).flat)\n",
    "\tresult = 0\n",
    "\tfor i in range(N):\n",
    "\t\tresult += w[i] * function.evalf(subs={IntegrationTerm:x[i]})\n",
    "\treturn result"
   ]
  },
  {
   "cell_type": "markdown",
   "metadata": {},
   "source": [
    "## Quadratura de Gass\n",
    "\n",
    "É uma aproximação da integral de uma função, geralmente estabelecido como um somatório com pesos dos valores assumidos pela função em pontos específicos dentro do domínio de integração."
   ]
  },
  {
   "cell_type": "code",
   "execution_count": 5,
   "metadata": {
    "collapsed": true
   },
   "outputs": [],
   "source": [
    "def quadrature(numberOfpoints,interval,function,IntegrationTerm,show = False):\n",
    "\t\"\"\"\n",
    "\tImplements: Quadrature\n",
    "\tArguments:\n",
    "\t\tnumberOfpoints: number of interpolation points (number)\n",
    "\t\tinterval: range of integration (list)\n",
    "\t\tfunction: function to apply the methos (sympy function)\n",
    "\t\tIntegrationTerm: term to integrate the function (string)\n",
    "\t\tshow : active DEBUG mode (boolean)\n",
    "\tReturn: integral of analyzed function (number) \n",
    "\t\"\"\"\n",
    "\n",
    "\t# Points is a list of lists\n",
    "\t# Each list contain the points to use when the user set N points\n",
    "\tpoints = []\n",
    "\t# Points [2,10] extracted from https://pomax.github.io/bezierinfo/legendre-gauss.html\n",
    "\tpoints.append([0])\n",
    "\tpoints.append([-0.5773502691896257,0.5773502691896257])\n",
    "\tpoints.append([0.0000000000000000,-0.7745966692414834,0.7745966692414834])\n",
    "\tpoints.append([-0.3399810435848563,0.3399810435848563,-0.8611363115940526,0.8611363115940526])\n",
    "\tpoints.append([0.0000000000000000,-0.5384693101056831,0.5384693101056831,-0.9061798459386640,0.9061798459386640])\n",
    "\tpoints.append([0.6612093864662645,-0.6612093864662645,-0.2386191860831969,0.2386191860831969,-0.9324695142031521,0.9324695142031521])\n",
    "\tpoints.append([0,0.4058451513773972,-0.4058451513773972,-0.7415311855993945,0.7415311855993945,-0.9491079123427585,0.9491079123427585])\n",
    "\tpoints.append([-0.1834346424956498,0.1834346424956498,-0.5255324099163290,0.5255324099163290,-0.7966664774136267,0.7966664774136267,-0.9602898564975363,0.9602898564975363])\n",
    "\tpoints.append([-0.8360311073266358,0.8360311073266358,-0.9681602395076261,0.9681602395076261,-0.3242534234038089,0.3242534234038089,-0.6133714327005904,0.6133714327005904])\n",
    "\tpoints.append([-0.1488743389816312,0.1488743389816312,-0.4333953941292472,0.4333953941292472,-0.6794095682990244,0.6794095682990244,-0.8650633666889845,0.8650633666889845,-0.9739065285171717,0.9739065285171717])\n",
    "\t\n",
    "\telementIndex = numberOfpoints-1\n",
    "\tif(show):\n",
    "\t\tprint(\"PONTOS: \",points[elementIndex])\n",
    "\n",
    "\t# Weights is a list of lists\n",
    "\t# Each list contain the weight to use when the user set N points\n",
    "\t# Weights extracted from https://pomax.github.io/bezierinfo/legendre-gauss.html\n",
    "\n",
    "\tweights = [[1],\n",
    "\t\t\t  [1.0000000000000000,1.0000000000000000],\n",
    "\t\t\t  [0.8888888888888888,0.5555555555555556,0.5555555555555556],\n",
    "\t\t\t  [0.6521451548625461,0.6521451548625461,0.3478548451374538,0.3478548451374538],\n",
    "\t\t\t  [0.5688888888888889,0.4786286704993665,0.4786286704993665,0.2369268850561891,0.2369268850561891],\n",
    "\t\t\t  [0.3607615730481386,0.3607615730481386,0.4679139345726910,0.4679139345726910,0.1713244923791704,0.1713244923791704],\n",
    "\t\t\t  [0.4179591836734694,0.3818300505051189,0.3818300505051189,0.3818300505051189,0.2797053914892766,0.1294849661688697,0.1294849661688697],\n",
    "\t\t\t  [0.3626837833783620,0.3626837833783620,0.3137066458778873,0.3137066458778873,0.2223810344533745,0.2223810344533745,0.1012285362903763,0.1012285362903763],\n",
    "\t\t\t  [0.3302393550012598,0.1806481606948574,0.1806481606948574,0.0812743883615744,0.0812743883615744,0.3123470770400029,0.3123470770400029,0.2606106964029354,0.2606106964029354],\n",
    "\t\t\t  [0.2955242247147529,0.2955242247147529,0.2692667193099963,0.2692667193099963,0.2190863625159820,0.2190863625159820,0.1494513491505806,0.1494513491505806,0.0666713443086881,0.0666713443086881]]\n",
    "\t\n",
    "\tselectWeightArray = weights[len(points[elementIndex])-1]\n",
    "\tresult = 0;\n",
    "\n",
    "\tfor i in range(len(points[elementIndex])):\n",
    "\t\tadjustTerm = (interval[-1]-interval[0])/2\n",
    "\t\t# Adjusts the function to work using the weights and points of Legendre-Gauss interval [-1,1]\n",
    "\t\tfunctionValue = function.subs(IntegrationTerm,adjustTerm*points[elementIndex][i] + (interval[-1]+interval[0])/2)\n",
    "\t\tweight = selectWeightArray[i]\n",
    "\t\tresult += adjustTerm*(functionValue * weight)\n",
    "\t\tif(show):\t\n",
    "\t\t\tprint (\"RESULTADO PARA \",i+1,\" PONTOS: \",result)\n",
    "\treturn result\n"
   ]
  },
  {
   "cell_type": "markdown",
   "metadata": {},
   "source": [
    "# Questão número 2"
   ]
  },
  {
   "cell_type": "code",
   "execution_count": 6,
   "metadata": {},
   "outputs": [
    {
     "name": "stdout",
     "output_type": "stream",
     "text": [
      "RESULTADO QUESTAO 2 - FUNCAO 1 (5 PONTOS)(Integração polinomial):  0.746833709849754\n",
      "RESULTADO QUESTAO 2 - FUNCAO 1 (5 PONTOS)(Quadratura):  0.746824126766248\n",
      "RESULTADO QUESTAO 2 - FUNCAO 2 (5 PONTOS)(Integração polinomial):  1.34400838718517 \n",
      "\n",
      "RESULTADO QUESTAO 2 - FUNCAO 2 (5 PONTOS)(Quadratura):  1.34401165187928 \n",
      "\n",
      "RESULTADO QUESTAO 2 - FUNCAO 1 (10 PONTOS):  0.746824138568454\n"
     ]
    }
   ],
   "source": [
    "testFunction1 = exp(-x**2)\n",
    "testFunction2 = (1/2)*np.pi*exp((-1/2)*(x**2))\n",
    "N = 10\n",
    "print(\"RESULTADO QUESTAO 2 - FUNCAO 1 (5 PONTOS)(Integração polinomial): \",polynomialIntegration(5,[0,1],testFunction1,x))\n",
    "print(\"RESULTADO QUESTAO 2 - FUNCAO 1 (5 PONTOS)(Quadratura): \",quadrature(5,[0,1],testFunction1,x))\n",
    "print(\"RESULTADO QUESTAO 2 - FUNCAO 2 (5 PONTOS)(Integração polinomial): \",polynomialIntegration(5,[0,1],testFunction2,x),\"\\n\")\n",
    "print(\"RESULTADO QUESTAO 2 - FUNCAO 2 (5 PONTOS)(Quadratura): \",quadrature(5,[0,1],testFunction2,x),\"\\n\")\n",
    "\n",
    "print(\"RESULTADO QUESTAO 2 - FUNCAO 1 (10 PONTOS): \",polynomialIntegration(10,[0,1],testFunction1,x))\n"
   ]
  },
  {
   "cell_type": "markdown",
   "metadata": {},
   "source": [
    "Definimos a função **minPoints** com o bojetivo de achar o mínimo de pontos de integração possível para encontrar o resultado exato. *(consideramos que chegamos ao resultado exato quando, ao variar o número de ponto, mudamos nosso valor em menos de 0.00001)*"
   ]
  },
  {
   "cell_type": "code",
   "execution_count": 9,
   "metadata": {
    "collapsed": true
   },
   "outputs": [],
   "source": [
    "def minPoints(function,interval,variable,method):\n",
    "    if(method == 0):\n",
    "        result = polynomialIntegration(2,interval,function,variable)\n",
    "        for i in range(3,11):\n",
    "            i_result = polynomialIntegration(i,interval,function,variable)\n",
    "            if (abs(i_result - result) < 0.00001):\n",
    "                return i-1\n",
    "            else:\n",
    "                result = i_result\n",
    "    if(method == 1):\n",
    "        result = quadrature(2,interval,function,variable)\n",
    "        for i in range(3,11):\n",
    "            i_result = quadrature(i,interval,function,variable)\n",
    "            if (abs(i_result - result) < 0.00001):\n",
    "                return i-1\n",
    "            else:\n",
    "                result = i_result\n",
    "    return 10"
   ]
  },
  {
   "cell_type": "code",
   "execution_count": 10,
   "metadata": {},
   "outputs": [
    {
     "name": "stdout",
     "output_type": "stream",
     "text": [
      "5\n",
      "5\n"
     ]
    }
   ],
   "source": [
    "print(minPoints(testFunction1,[0,1],x,0))\n",
    "print(minPoints(testFunction2,[0,1],x,0))"
   ]
  },
  {
   "cell_type": "markdown",
   "metadata": {},
   "source": [
    "# Questão 3"
   ]
  },
  {
   "cell_type": "code",
   "execution_count": 47,
   "metadata": {},
   "outputs": [
    {
     "name": "stdout",
     "output_type": "stream",
     "text": [
      "RESUTADO QUESTAO 3 - m0:  3.20759982796330\n",
      "RESUTADO QUESTAO 3 - m2:  5.28741027417446 \n",
      "\n"
     ]
    }
   ],
   "source": [
    "Wn = 1\n",
    "E = 0.05\n",
    "Sn = 2\n",
    "RAO = 1/(sqrt((1-(w/Wn)**2)**2)+(2*E*(w/Wn))**2)\n",
    "testFunction3 = (RAO**2)*Sn\n",
    "testFunction4 = (w**2)*(RAO**2)*Sn\n",
    "\n",
    "m0 = polynomialIntegration(6,[0,10],testFunction3,w)\n",
    "m2 = polynomialIntegration(10,[0,10],testFunction4,w)\n",
    "\n",
    "print(\"RESUTADO QUESTAO 3 - m0: \",m0)\n",
    "print(\"RESUTADO QUESTAO 3 - m2: \",m2,\"\\n\")"
   ]
  },
  {
   "cell_type": "markdown",
   "metadata": {},
   "source": [
    "# Questão 4"
   ]
  },
  {
   "cell_type": "code",
   "execution_count": 46,
   "metadata": {},
   "outputs": [
    {
     "name": "stdout",
     "output_type": "stream",
     "text": [
      "RESULTADO QUESTAO 4 m0:  6.57072428957911\n",
      "RESULTADO QUESTAO 4 m2:  5.28741027417446 \n",
      "\n"
     ]
    }
   ],
   "source": [
    "Hs = 3\n",
    "Tz = 5\n",
    "Sn = ((4 * (np.pi)**3 * (Hs)**2)/(w**5 * Tz**4))*exp((-16*np.pi**3)/(w**4 * Tz**4))\n",
    "\n",
    "m0_2 = polynomialIntegration(10,[0,10],testFunction3,w)\n",
    "m2_2 = polynomialIntegration(10,[0,10],testFunction4,w)\n",
    "\n",
    "print(\"RESULTADO QUESTAO 4 m0: \",m0_2)\n",
    "print(\"RESULTADO QUESTAO 4 m2: \",m2_2,\"\\n\")\n"
   ]
  },
  {
   "cell_type": "markdown",
   "metadata": {},
   "source": [
    "# Questão 5"
   ]
  },
  {
   "cell_type": "code",
   "execution_count": 11,
   "metadata": {},
   "outputs": [
    {
     "name": "stdout",
     "output_type": "stream",
     "text": [
      "Minimo de pontos para Integracao polinomial:  3\n",
      "Minimo de pontos para Quadratura:  2\n"
     ]
    }
   ],
   "source": [
    "testFunction5 = 2 + 2*x - x**2 + 3*x**3\n",
    "print(\"Minimo de pontos para Integracao polinomial: \", minPoints(testFunction5,[0,1],x,0))\n",
    "print(\"Minimo de pontos para Quadratura: \",minPoints(testFunction5,[0,1],x,1))"
   ]
  },
  {
   "cell_type": "markdown",
   "metadata": {},
   "source": [
    "# Questão 6"
   ]
  },
  {
   "cell_type": "code",
   "execution_count": 50,
   "metadata": {},
   "outputs": [
    {
     "name": "stdout",
     "output_type": "stream",
     "text": [
      "RESULTADO DA TECNICA DO PONTO MEDIO:  0.923076923076923\n",
      "RESULTADO DA TECNICA DO TRAPEZIO:  1.65000000000000\n",
      "RESULTADO DA RESOLUCAO NUMERICA:  1.24909098656420\n"
     ]
    }
   ],
   "source": [
    "testFunction6 = 1/(1+x**2)\n",
    "interval = [0,3]\n",
    "\n",
    "# Result using mid point rule\n",
    "m = (interval[1]+interval[0])/2\n",
    "A_mid = testFunction6.subs(x,m) * (interval[1]-interval[0])\n",
    "print(\"RESULTADO DA TECNICA DO PONTO MEDIO: \", A_mid)\n",
    "\n",
    "# Result using trapeze rule\n",
    "A_t = ((testFunction6.subs(x,interval[0])+testFunction6.subs(x,interval[1]))/2.0) * (interval[1]-interval[0])\n",
    "print(\"RESULTADO DA TECNICA DO TRAPEZIO: \", A_t)\n",
    "\n",
    "# Result using numeric method\n",
    "A = polynomialIntegration(ponto,interval,testFunction6,x)\n",
    "print(\"RESULTADO DA RESOLUCAO NUMERICA: \", A)"
   ]
  }
 ],
 "metadata": {
  "kernelspec": {
   "display_name": "Python 3",
   "language": "python",
   "name": "python3"
  },
  "language_info": {
   "codemirror_mode": {
    "name": "ipython",
    "version": 3
   },
   "file_extension": ".py",
   "mimetype": "text/x-python",
   "name": "python",
   "nbconvert_exporter": "python",
   "pygments_lexer": "ipython3",
   "version": "3.6.1"
  }
 },
 "nbformat": 4,
 "nbformat_minor": 2
}
