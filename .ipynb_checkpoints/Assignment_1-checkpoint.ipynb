{
 "cells": [
  {
   "cell_type": "code",
   "execution_count": 3,
   "metadata": {
    "collapsed": true
   },
   "outputs": [],
   "source": [
    "from numpy.linalg import inv\n",
    "import numpy as np\n",
    "from math import *\n",
    "from copy import deepcopy\n",
    "from sympy import *"
   ]
  },
  {
   "cell_type": "code",
   "execution_count": 4,
   "metadata": {
    "collapsed": true
   },
   "outputs": [],
   "source": [
    "x,y,z = symbols('x y z')\n",
    "init_printing(use_unicode=True)\n",
    "tolerance = 0.0001\n",
    "\n",
    "symbolsList = []\n",
    "\n",
    "g = 9.806\n",
    "k = 0.00341\n",
    "testFunction1 = log(cosh(x*sqrt(g*k))) - 50\n",
    "testFunction2 = 4*cos(x)- exp(2*x)"
   ]
  },
  {
   "cell_type": "markdown",
   "metadata": {},
   "source": [
    "\n",
    "## Método da bisseção\n",
    "\n",
    "Esse método precisa de dois valores iniciais, a e b. Esses valores devem ser um positivo e outro negativo. Ainda, a raiz deve estar contida no intervalo [a,b].\n",
    "\n",
    "O processo seguido pelo método é definir o ponto candidato a raiz como o meio do intervalo [a,b] e testar se a função nesse ponto candidato está dentro do intervalo de tolerância. Se não estiver, ele muda o valor do intervalo analisado de acordo com o seguinte critério:\n",
    "\n",
    "\n",
    "- Se a função aplicada no ponto definido como candidato a raiz deu um valor maior que zero, substitui o limite superior do intervalo analisado pelo próprio ponto candidato a raiz;\n",
    "- Se a função aplicada no ponto definido como candidato a raiz deu um valor menor que zero, substitui o limite inferior do intervalo analisado pelo próprio ponto candidato a raiz."
   ]
  },
  {
   "cell_type": "code",
   "execution_count": 5,
   "metadata": {
    "collapsed": true
   },
   "outputs": [],
   "source": [
    "def bissectionMethod(function,a,b,tol):\n",
    "\t\"\"\"\n",
    "\tImplements: Bissection Method\n",
    "\tArguments:\n",
    "\t\tfunction: function to apply the method (sympy function)\n",
    "\t\ta: begin of the analyzed interval (number)\n",
    "\t\tb: end of the analyzed interval (number)\n",
    "\t\ttol: error tolerance (number)\n",
    "\tReturn: root of analyzed function (number) \n",
    "\t\"\"\"\n",
    "\titerations = 0\n",
    "\twhile(abs(a-b) > tol and iterations < 1000):\n",
    "\t\trootPoint = (a+b)/2\n",
    "\t\trootValue = function.subs(x,rootPoint)\n",
    "\t\tif(rootValue > 0):\n",
    "\t\t\tb = rootPoint \n",
    "\t\telse:\n",
    "\t\t\ta = rootPoint \n",
    "\t\titerations+= 1\n",
    "\treturn rootPoint"
   ]
  },
  {
   "cell_type": "code",
   "execution_count": 6,
   "metadata": {
    "scrolled": true
   },
   "outputs": [
    {
     "name": "stdout",
     "output_type": "stream",
     "text": [
      "Function 1:  -7.8539276123046875\n",
      "Function 2:  277.22102403640747\n"
     ]
    }
   ],
   "source": [
    "print(\"Function 1: \",bissectionMethod(testFunction2,-30.0,10.0,tolerance))\n",
    "print(\"Function 2: \",bissectionMethod(testFunction1,-1000.0,1000.0,tolerance))"
   ]
  },
  {
   "cell_type": "markdown",
   "metadata": {},
   "source": [
    "\n",
    "## Método de Newton e Método da Secante\n",
    "\n",
    "No método de Newton expandimos a série de Taylor, truncamos no termo linear e igualamos a zero. Dessa forma, conseguimos encontrar a raiz de uma função qualquer dado apenas um ponto inicial e a função analisada.\n",
    "\n",
    "O processo seguido por essa função é o de usar o quociente entre f(x) e f`(x) para estimar uma espécie de ¨passo¨ h que aproxima o valor x do valor correto da raiz. Caso a função seja linear apenas uma iteração é necessária. \n",
    "\n",
    "\n",
    "> A diferença entre o método de Newton e o método da secante é que no método de Newton calculamos a derivada da maneira tradicional, ao passo que no método da secante calculamos a derivada pela própria definição de derivada."
   ]
  },
  {
   "cell_type": "code",
   "execution_count": 7,
   "metadata": {
    "collapsed": true
   },
   "outputs": [],
   "source": [
    "def newtonMetod(function,initialValue,tol):\n",
    "\t\"\"\"\n",
    "\tImplements: Newthon Method\n",
    "\tArguments:\n",
    "\t\tfunction: function to apply the method (sympy function)\n",
    "\t\tinitialValue: starting point (number)\n",
    "\t\ttol: error tolerance (number)\n",
    "\tReturn: root of analyzed function (number) \n",
    "\t\"\"\"\n",
    "\titerations = 100\n",
    "\trootPoint = initialValue\n",
    "\tfor i in range (iterations):\n",
    "\t\tlastRoot = rootPoint  \n",
    "\t\tfunctionDerivative =  diff(function,x)\n",
    "\t\trootPoint  = rootPoint - function.evalf(subs={x:rootPoint})/functionDerivative.evalf(subs={x:rootPoint})\n",
    "\tif(abs(rootPoint - lastRoot) < tol):\n",
    "\t\treturn rootPoint\n",
    "\telse:\n",
    "\t\treturn \"convergence not reached\""
   ]
  },
  {
   "cell_type": "code",
   "execution_count": 8,
   "metadata": {},
   "outputs": [
    {
     "name": "stdout",
     "output_type": "stream",
     "text": [
      "Function 1 with initial point 200:  277.220996556061\n",
      "Function 1 with initial point -200:  -277.220996556061\n",
      "Function 2 with initial point -10:  -10.9955742876346\n",
      "Function 2 with initial point -15:  -14.1371669411539\n",
      "Function 2 with initial point -8:  -7.85398159629905\n"
     ]
    }
   ],
   "source": [
    "print(\"Function 1 with initial point 200: \",newtonMetod(testFunction1,200,tolerance))\n",
    "print(\"Function 1 with initial point -200: \",newtonMetod(testFunction1,-200,tolerance))\n",
    "print(\"Function 2 with initial point -10: \",newtonMetod(testFunction2,-10,tolerance))\n",
    "print(\"Function 2 with initial point -15: \",newtonMetod(testFunction2,-15,tolerance))\n",
    "print(\"Function 2 with initial point -8: \",newtonMetod(testFunction2,-8,tolerance))\n"
   ]
  },
  {
   "cell_type": "code",
   "execution_count": 9,
   "metadata": {
    "collapsed": true
   },
   "outputs": [],
   "source": [
    "def secantMethod(function,initialValue,tol):\n",
    "\t\"\"\"\n",
    "\tImplements: Secant Method\n",
    "\tArguments:\n",
    "\t\tfunction: function to apply the method (sympy function)\n",
    "\t\tinitialValue: starting point (number)\n",
    "\t\ttol: error tolerance (number)\n",
    "\tReturn: root of analyzed function (number) \n",
    "\t\"\"\"\n",
    "\titerations = 1000\n",
    "\trootPoint = initialValue\n",
    "\tdelta = 0.001\n",
    "\tlastRoot = rootPoint\n",
    "\trootPoint = lastRoot + delta\n",
    "\tfa = function.evalf(subs={x:lastRoot})\n",
    "\tfor i in range (iterations):\n",
    "\t\tfi = function.evalf(subs={x:rootPoint})\n",
    "\t\t# We use temp as a X of the last Iteration\n",
    "\t\ttemp = lastRoot\n",
    "\t\t# lastRoot assumes rot values before rootPoint update it value\n",
    "\t\tlastRoot = rootPoint\n",
    "\t\t# The line below is the main difference to Newton Method. We calculate the derivative using the definition\n",
    "\t\trootPoint = rootPoint - (fi * (rootPoint-temp))/(fi-fa)\n",
    "\t\tif(abs(rootPoint - lastRoot) < tol):\n",
    "\t\t\treturn rootPoint\n",
    "\t\telse:\n",
    "\t\t\tfa = fi\n",
    "\treturn \"convergence not reached\""
   ]
  },
  {
   "cell_type": "code",
   "execution_count": 10,
   "metadata": {},
   "outputs": [
    {
     "name": "stdout",
     "output_type": "stream",
     "text": [
      "Function 1 with initial point 200:  277.220996556061\n",
      "Function 1 with initial point -200:  -277.220996556061\n",
      "Function 2 with initial point -10:  -10.9955742876351\n",
      "Function 2 with initial point -15:  -14.1371669411539\n",
      "Function 2 with initial point -8:  -7.85398159629840\n"
     ]
    }
   ],
   "source": [
    "print(\"Function 1 with initial point 200: \",secantMethod(testFunction1,200,tolerance))\n",
    "print(\"Function 1 with initial point -200: \",secantMethod(testFunction1,-200,tolerance))\n",
    "print(\"Function 2 with initial point -10: \",secantMethod(testFunction2,-10,tolerance))\n",
    "print(\"Function 2 with initial point -15: \",secantMethod(testFunction2,-15,tolerance))\n",
    "print(\"Function 2 with initial point -8: \",secantMethod(testFunction2,-8,tolerance))"
   ]
  },
  {
   "cell_type": "markdown",
   "metadata": {},
   "source": [
    "\n",
    "## Método da Interpolação Inversa\n",
    "\n",
    "Nesse método construímos um polinômio quadrático usando Interpolação de Langrange de x em função de y e calculando seu valor para y = 0.\n",
    "\n",
    "O processo seguindo por essa função é calcular os interpoladores de Lagrange e encontrar um valor de `x*`. Se esse x* não estiver dentro da tolerância definida,  o valor do maior dos pontos x utilizados na interpolação (esses x começam por pontos definidos pelo usuário) é substituído pelo x* encontrado e o processo é repetido."
   ]
  },
  {
   "cell_type": "code",
   "execution_count": 11,
   "metadata": {
    "collapsed": true
   },
   "outputs": [],
   "source": [
    "def inverseInterpolationMethod(function,x1,x2,x3,tol):\n",
    "\t\"\"\"\n",
    "\tImplements: Inverse Interpolation Method\n",
    "\tArguments:\n",
    "\t\tfunction: function to apply the method (sympy function)\n",
    "\t\tx1,x2,x3: points to use in Langrange`s interpolation (number)\n",
    "\t\ttol: error tolerance (number)\n",
    "\tReturn: root of analyzed function (number) \n",
    "\t\"\"\"\n",
    "\t# We start x* (root of last iteration) as 10^36\n",
    "\tlastRoot = pow(10,36)\n",
    "\titerations = 1000\n",
    "\tlist_x = [x1,x2,x3]\n",
    "\tlist_y = [0,0,0]\n",
    "\t#print(function.subs(x,1))\n",
    "\tfor i in range (iterations):\n",
    "\t\tlist_y[0] = function.evalf(subs={x:list_x[0]})\n",
    "\t\tlist_y[1] = function.evalf(subs={x:list_x[1]})\n",
    "\t\tlist_y[2] = function.evalf(subs={x:list_x[2]})\n",
    "\t\trootPoint = (list_y[1]*list_y[2]*list_x[0])/((list_y[0]-list_y[1])*(list_y[0]-list_y[2])) + (list_y[0]*list_y[2]*list_x[1])/((list_y[1]-list_y[0])*(list_y[1]-list_y[2])) + (list_y[0]*list_y[1]*list_x[2])/((list_y[2]-list_y[0])*(list_y[2]-list_y[1]))\n",
    "\t\tif(abs(rootPoint-lastRoot) < tol):\n",
    "\t\t\treturn rootPoint\n",
    "\t\telse:\n",
    "\t\t\ti = list_y.index(max(list_y))\n",
    "\t\t\tlist_x[i] = rootPoint\n",
    "\t\t\tlist_y[i] = function.subs(x,list_x[i])\n",
    "\t\t\tlastRoot = rootPoint\n",
    "\treturn \"Convergence not reached\""
   ]
  },
  {
   "cell_type": "code",
   "execution_count": 12,
   "metadata": {},
   "outputs": [
    {
     "name": "stdout",
     "output_type": "stream",
     "text": [
      "Function 1 with initial points (200,250,260):  277.220996556061\n",
      "Function 1 with initial points (-200,-250,-260):  -277.220996556061\n",
      "Function 2 with initial points (-13,-12,-8)::  -7.85398158146460\n",
      "Function 2 with initial points (-16,-14,-18):  -14.1371659644094\n",
      "Function 2 with initial points (-5,-7,-9):  -7.10621448704260\n"
     ]
    }
   ],
   "source": [
    "print(\"Function 1 with initial points (200,250,260): \",inverseInterpolationMethod(testFunction1,200,250,260,tolerance))\n",
    "print(\"Function 1 with initial points (-200,-250,-260): \",inverseInterpolationMethod(testFunction1,-200,-250,-260,tolerance))\n",
    "print(\"Function 2 with initial points (-13,-12,-8):: \",inverseInterpolationMethod(testFunction2,-13,-12,-8,tolerance))\n",
    "print(\"Function 2 with initial points (-16,-14,-18): \",inverseInterpolationMethod(testFunction2,-16,-14,-18,tolerance))\n",
    "print(\"Function 2 with initial points (-5,-7,-9): \",inverseInterpolationMethod(testFunction2,-6,-7,-9,tolerance))"
   ]
  },
  {
   "cell_type": "markdown",
   "metadata": {},
   "source": [
    "### Métodos auxiliares\n",
    "\n",
    "Antes de iniciar o estudo de problemas multidimensionais, vamos definir os seguintes métodos auxiliares:\n",
    " "
   ]
  },
  {
   "cell_type": "code",
   "execution_count": 13,
   "metadata": {
    "collapsed": true
   },
   "outputs": [],
   "source": [
    "def jacobian(funcArray):\n",
    "\tglobal symbolsList\n",
    "\tfunctionArray = deepcopy(funcArray)\n",
    "\tjacobian = []\n",
    "\tfor i in range(functionArray.size):\n",
    "\t\ttemp = []\n",
    "\t\tfor j in range(len(symbolsList)):\n",
    "\t\t\ttemp.append(diff(functionArray[i], symbolsList[j]))\n",
    "\t\tjacobian.append(temp)\n",
    "\treturn jacobian\n",
    "\n",
    "\n",
    "def jacobianBroyden(funcArray):\n",
    "\tglobal symbolsList\n",
    "\tfunctionArray = deepcopy(funcArray)\n",
    "\tjacobian = []\n",
    "\tfunctionList = functionArray.tolist()\n",
    "    \n",
    "\tfor i in range(len(functionArray)):\n",
    "\t\ttemp = []\n",
    "\t\tfor j in range(len(symbolsList)):\n",
    "\t\t\ttemp.append(diff(functionList[i][0], symbolsList[j]))\n",
    "\t\tjacobian.append(temp)\n",
    "\treturn jacobian\n",
    "\n",
    "\n",
    "def changeValuesMatrix(matrix, valueArray):\n",
    "\tglobal symbolsList\n",
    "\tfunctionMatrix = deepcopy(matrix)\n",
    "\tfor i in range(len(functionMatrix)):\n",
    "\t\tfor j in range(len(functionMatrix[i])):\n",
    "\t\t\tfor k in range(len(symbolsList)):\n",
    "\t\t\t\tfunctionMatrix[i][j] = functionMatrix[i][j].subs(symbolsList[k], valueArray[k])\n",
    "\treturn functionMatrix\n",
    "\n",
    "\n",
    "def changeValuesArray(array, valueArray):\n",
    "\tglobal symbolsList\n",
    "\tfunctionArray = deepcopy(array)\n",
    "\tfor i in range(len(functionArray)):\n",
    "\t\tfor k in range(len(symbolsList)):\n",
    "\t\t\t\tfunctionArray[i] = functionArray[i].subs(symbolsList[k], valueArray[k])\n",
    "\treturn functionArray\n",
    "\n",
    "\n",
    "def changeValuesArrayBroyden(array, valueArray):\n",
    "\tglobal symbolsList\n",
    "\tfunctionArray = deepcopy(array)\n",
    "\tfor i in range(len(functionArray)):\n",
    "\t\tfor j in range(len(functionArray[i])):\n",
    "\t\t\tfor k in range(len(symbolsList)):\n",
    "\t\t\t\tfunctionArray[i][j] = functionArray[i][j].subs(symbolsList[k], valueArray[k])\n",
    "\treturn functionArray"
   ]
  },
  {
   "cell_type": "markdown",
   "metadata": {},
   "source": [
    "## Método de Newton (caso multidimensional)\n",
    "\n",
    "Expandimos a série de Taylor até a primeira ordem e somos capazes de obter a seguinte relação:\n",
    "$$f(x) = -J \\Delta   X$$, onde J é a nossa matriz jacobiana. Sendo assim, usamos a seguinte relação para resolver o sistema:\n",
    "\n",
    "$$X^{k+1} = X^{k} + \\Delta X^{k}= X^{k}-J(X^{k})^{-1}f(X^{k})$$ \n"
   ]
  },
  {
   "cell_type": "code",
   "execution_count": 14,
   "metadata": {
    "collapsed": true
   },
   "outputs": [],
   "source": [
    "def multiDimensionalNewtonMethod(functionArray, X0, tol, symbols):\n",
    "\t\"\"\"\n",
    "\tImplements: MultiDimensional Newton Method\n",
    "\tArguments:\n",
    "\t\tfunctionArray: functions to apply the method (np.array([function, ...]))\n",
    "\t\tX0: initial condition x(0)\n",
    "\t\ttol: error tolerance (number)\n",
    "\t\tsymbols: list of variables used in functionArray\n",
    "\tReturn: np array of Convergence or \"Convergence not reached\"\n",
    "\t\"\"\"\n",
    "\n",
    "\t# define symbols that will be used\n",
    "\tglobal symbolsList\n",
    "\tsymbolsList = symbols\n",
    "    \n",
    "\titerations = 1000\n",
    "\tjacob = jacobian(functionArray)\n",
    "\tlastX = X0\n",
    "\n",
    "\tfor i in range(iterations):\n",
    "\t\tj = changeValuesMatrix(jacob, lastX)\n",
    "\t\tf = changeValuesArray(functionArray, lastX)\n",
    "\n",
    "\t\tj_np = np.array(j).astype(np.float64)\n",
    "\t\tf_np = np.array(f).astype(np.float64)\n",
    "\t\t\n",
    "\t\tdeltaX = -np.dot(inv(j_np),f_np)\n",
    "\t\tlastX = lastX + deltaX\n",
    "\n",
    "\t\ttolk = np.linalg.norm(deltaX, ord=2) / np.linalg.norm(lastX, ord=2)\n",
    "\t\tif (tolk < tol):\n",
    "\t\t\treturn lastX\n",
    "\n",
    "\treturn \"Convergence not reached\""
   ]
  },
  {
   "cell_type": "code",
   "execution_count": 15,
   "metadata": {},
   "outputs": [
    {
     "name": "stdout",
     "output_type": "stream",
     "text": [
      "Questão 3 - Método de Newton\n",
      "Resultado:  [ 0.79040954  0.80688815  1.31308198] \n",
      "\n",
      "Questão 4 - Método de Newton\n",
      "teta1 =  0.0   teta 2 =  3.0\n",
      "Resultado:  [ -7.65881940e-01   5.73517972e-12   2.62495986e-01] \n",
      "\n",
      "teta1 =  0.75   teta 2 =  6.5\n",
      "Resultado:  [-0.71567217  0.1833123   0.26476611] \n",
      "\n",
      "teta1 =  0.0   teta 2 =  11.667\n",
      "Resultado:  [ -6.54736113e-01   1.12061386e-09   3.08577549e-01] \n",
      "\n"
     ]
    }
   ],
   "source": [
    "functionArray1 = np.array([16*(x**4)+16*(y**4)+(z**4)-16, (x**2)+(y**2)+(z**2)-3, (x**3)-y+z-1])\n",
    "functionArray2 = np.array([x+2*y-2,(x**2)+4*(y**2)-4])\n",
    "\n",
    "print(\"Questão 3 - Método de Newton\")\n",
    "print(\"Resultado: \", multiDimensionalNewtonMethod(functionArray1, [1,1,1], tolerance, [x,y,z]),\"\\n\")\n",
    "\n",
    "tetas = [(0.00, 3.0), (0.75, 6.5), (0.00, 11.667)]\n",
    "\n",
    "print(\"Questão 4 - Método de Newton\")\n",
    "for teta1, teta2 in tetas:\n",
    "    functionArray3 = np.array([2*(y**2)+(x**2)+(6*(z**2))-1, \n",
    "                               8*(y**3)+6*y*(x**2)+36*y*x*z+108*y*(z**2) - teta1,\n",
    "                               60*(y**4)+60*(y**2)*(x**2)+576*(y**2)*x*z+2232*(y**2)*(z**2)+252*(z**2)*(x**2)+1296*(z**3)*x+3348*(z**4)+24*(x**3)*z+3*x-teta2])\n",
    "\n",
    "    print(\"teta1 = \",teta1,\"  teta 2 = \",teta2)\n",
    "    print(\"Resultado: \", multiDimensionalNewtonMethod(functionArray3, [1,1,1], tolerance, [x,y,z]),\"\\n\")"
   ]
  },
  {
   "cell_type": "markdown",
   "metadata": {},
   "source": [
    "\n",
    "## Método de Broyden\n",
    "\n",
    "É similar ao método de Newton, porém a matriz Jacobiana não é calculada numericamente em cada iteração. Esse método usa uma matriz jacobiana aproximada B, dada por:\n",
    "\n",
    "$$B^{k+1} = B^{k} + \\frac{(Y-B^{k}\\Delta X)(\\Delta X)^{T})}{(\\Delta X)^{T}(\\Delta X)}$$\n"
   ]
  },
  {
   "cell_type": "code",
   "execution_count": 32,
   "metadata": {
    "collapsed": true
   },
   "outputs": [],
   "source": [
    "def multiDimensionalBroydenMethod(functionArray, X0, B0, tol, symbols):\n",
    "\t\"\"\"\n",
    "\tImplements: MultiDimensional Broyden Method\n",
    "\tArguments:\n",
    "\t\tfunctionArray: functions to apply the method (np.array([[function], ...]))\n",
    "\t\tX0: initial condition x(0)\n",
    "\t\tB0: jacobian of start. Should be 0 if you want the algorithm to calculate\n",
    "\t\ttol: error tolerance (number)\n",
    "\t\tsymbols: list of variables used in functionArray\n",
    "\tReturn: np array of Convergence or \"Convergence not reached\"\n",
    "\t\"\"\"\n",
    "    \n",
    "\t# define symbols that will be used\n",
    "\tglobal symbolsList\n",
    "\tsymbolsList = symbols\n",
    "    \n",
    "\titerations = 1000\n",
    "\tX_list = [X0]\n",
    "\tif (isinstance(B0, int)):\n",
    "\t\t# algorithm will calculate jacobian of start\n",
    "\t\tB0 = np.array(jacobianBroyden(functionArray))\n",
    "\t\t#print(\"B0 by algorithm: \", B0)\n",
    "\t\tB0 = changeValuesArrayBroyden(B0,X0).astype(np.float64)\n",
    "\t\t#print(\"B0 final by algorithm: \", B0)\n",
    "\tB_list = [B0] \t\t# receive the jacobian of start\n",
    "\n",
    "\n",
    "\tfor i in range(1, iterations+1):\n",
    "\t\tj_np = B_list[i-1]\n",
    "\n",
    "\t\tf_ant = changeValuesArrayBroyden(functionArray, X_list[i-1])\n",
    "\n",
    "\t\tf_np_ant = np.array(f_ant).astype(np.float64)\n",
    "\t\t\n",
    "\t\tdeltaX = -np.dot(inv(j_np),f_np_ant)\n",
    "\n",
    "\t\tX_list.append(np.add(X_list[i-1], deltaX.transpose())[0])\n",
    "\n",
    "\t\tf = changeValuesArrayBroyden(functionArray, X_list[i])\n",
    "\t\tf_np = np.array(f).astype(np.float64)\n",
    "\n",
    "\t\tlastY = f_np - f_np_ant\n",
    "\n",
    "\t\t#print(\"### iteraction: \",i,\" B: \",j_np, \" f_ant: \",f_ant, \" f_np_ant: \",f_np_ant, \" xlist -1: \", X_list[i-1], \"deltaX: \",deltaX)\n",
    "\n",
    "\t\ttolk = np.linalg.norm(deltaX, ord=2) / np.linalg.norm(X_list[i], ord=2)\n",
    "\t\tif (tolk < tol):\n",
    "\t\t\treturn X_list[i]\n",
    "\t\telse:\n",
    "\t\t\tdeltaX_transp = deltaX.transpose()\n",
    "\n",
    "\t\t\t#print(\"### iteraction: \",i,\" deltaX_transp\",deltaX_transp)\n",
    "\n",
    "\t\tb_dividendo = np.dot(lastY-np.dot(np.asmatrix(B_list[i-1]), deltaX), deltaX_transp)\n",
    "\t\tb_divisor = np.dot(deltaX_transp, deltaX)\n",
    "\n",
    "\t\tnext_B = B_list[i-1] + np.divide(b_dividendo, b_divisor)\n",
    "\n",
    "\t\t#print(\"### nextB: \", next_B.tolist())\n",
    "\n",
    "\t\tB_list.append(next_B.tolist())\n",
    "\n",
    "\t\t#print(\"### iteraction: \",i,\" ---- VALUE\",X_list[i])\n",
    "\n",
    "\treturn \"Convergence not reached\""
   ]
  },
  {
   "cell_type": "code",
   "execution_count": 33,
   "metadata": {},
   "outputs": [
    {
     "name": "stdout",
     "output_type": "stream",
     "text": [
      "Questão 3 - Método de Broyden\n",
      "Resultado:  [ 0.79041239  0.8068847   1.31308252] \n",
      "\n",
      "Questão 4 - Método de Broyden\n",
      "teta1 =  0.0   teta 2 =  3.0\n",
      "Resultado:  [ -8.14774772e-01  -9.80280074e-06  -2.36693193e-01] \n",
      "\n",
      "teta1 =  0.75   teta 2 =  6.5\n",
      "Resultado:  [ 0.9377185   0.20573407 -0.07749294] \n",
      "\n",
      "teta1 =  0.0   teta 2 =  11.667\n",
      "Resultado:  [ -6.54862281e-01   3.21209686e-06   3.08531583e-01] \n",
      "\n"
     ]
    }
   ],
   "source": [
    "## slide sample\n",
    "#slideSample3 = np.array([[x+2*y-2], [(x**2)+4*(y**2)-4]])\n",
    "#b0_broyden = np.array([[1,2],[4,24]])\n",
    "#print(multiDimensionalBroydenMethod(slideSample3, [2,3], b0_broyden, tolerance, [x,y]))\n",
    "\n",
    "functionArray1 = np.array([[16*(x**4)+16*(y**4)+(z**4)-16], [(x**2)+(y**2)+(z**2)-3], [(x**3)-y+z-1]])\n",
    "\n",
    "b0_broyden_sample = np.array([[1,2,3],[3,2,1],[4,3,4]])\n",
    "\n",
    "print(\"Questão 3 - Método de Broyden\")\n",
    "print(\"Resultado: \", multiDimensionalBroydenMethod(functionArray1, [1,1,1], 0, tolerance, [x,y,z]),\"\\n\")\n",
    "\n",
    "tetas = [(0.00, 3.0), (0.75, 6.5), (0.00, 11.667)]\n",
    "\n",
    "print(\"Questão 4 - Método de Broyden\")\n",
    "for teta1, teta2 in tetas:\n",
    "    functionArray3 = np.array([[2*(y**2)+(x**2)+(6*(z**2))-1], \n",
    "                               [8*(y**3)+6*y*(x**2)+36*y*x*z+108*y*(z**2) - teta1],\n",
    "                               [60*(y**4)+60*(y**2)*(x**2)+576*(y**2)*x*z+2232*(y**2)*(z**2)+252*(z**2)*(x**2)+1296*(z**3)*x+3348*(z**4)+24*(x**3)*z+3*x-teta2]])\n",
    "\n",
    "    print(\"teta1 = \",teta1,\"  teta 2 = \",teta2)\n",
    "    print(\"Resultado: \", multiDimensionalBroydenMethod(functionArray3, [1,1,1], 0, tolerance, [x,y,z]),\"\\n\")"
   ]
  },
  {
   "cell_type": "code",
   "execution_count": null,
   "metadata": {
    "collapsed": true
   },
   "outputs": [],
   "source": []
  }
 ],
 "metadata": {
  "kernelspec": {
   "display_name": "Python 3",
   "language": "python",
   "name": "python3"
  },
  "language_info": {
   "codemirror_mode": {
    "name": "ipython",
    "version": 3
   },
   "file_extension": ".py",
   "mimetype": "text/x-python",
   "name": "python",
   "nbconvert_exporter": "python",
   "pygments_lexer": "ipython3",
   "version": "3.6.1"
  }
 },
 "nbformat": 4,
 "nbformat_minor": 2
}
